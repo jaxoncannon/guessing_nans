{
  "nbformat": 4,
  "nbformat_minor": 0,
  "metadata": {
    "colab": {
      "provenance": [],
      "authorship_tag": "ABX9TyMPxFJ2OeJeVRfYVJCSh5S3",
      "include_colab_link": true
    },
    "kernelspec": {
      "name": "python3",
      "display_name": "Python 3"
    },
    "language_info": {
      "name": "python"
    }
  },
  "cells": [
    {
      "cell_type": "markdown",
      "metadata": {
        "id": "view-in-github",
        "colab_type": "text"
      },
      "source": [
        "<a href=\"https://colab.research.google.com/github/jaxoncannon/guessing_nans/blob/main/Final_data_cleaning.ipynb\" target=\"_parent\"><img src=\"https://colab.research.google.com/assets/colab-badge.svg\" alt=\"Open In Colab\"/></a>"
      ]
    },
    {
      "cell_type": "code",
      "execution_count": null,
      "metadata": {
        "id": "OxBMOsjXfn0m"
      },
      "outputs": [],
      "source": [
        "import pandas as pd\n",
        "import numpy as np\n",
        "\n",
        "\n",
        "happiness_url = \"https://raw.githubusercontent.com/jaxoncannon/guessing_nans/main/hapiscore_whr.csv\"\n",
        "cell_phones_url = \"https://raw.githubusercontent.com/jaxoncannon/guessing_nans/main/cell_phones_per_100_people.csv\"\n",
        "democracy_url = \"https://raw.githubusercontent.com/jaxoncannon/guessing_nans/main/democracy_score_use_as_color.csv\"\n",
        "human_dev_url = \"https://raw.githubusercontent.com/jaxoncannon/guessing_nans/main/hdi_human_development_index.csv\"\n",
        "internet_url = \"https://raw.githubusercontent.com/jaxoncannon/guessing_nans/main/internet_users.csv\"\n",
        "murders_url = \"https://raw.githubusercontent.com/jaxoncannon/guessing_nans/main/murder_per_100000_people.csv\"\n",
        "women_in_gov_url = \"https://raw.githubusercontent.com/jaxoncannon/guessing_nans/main/wn_bothhouses_c.csv\"\n",
        "\n",
        "happiness = pd.read_csv(happiness_url)\n",
        "cell_phones = pd.read_csv(cell_phones_url)\n",
        "democracy = pd.read_csv(democracy_url)\n",
        "human_dev = pd.read_csv(human_dev_url)\n",
        "internet = pd.read_csv(internet_url)\n",
        "murders = pd.read_csv(murders_url)\n",
        "women_in_gov = pd.read_csv(women_in_gov_url)"
      ]
    },
    {
      "cell_type": "code",
      "source": [
        "#need to cut up dataframes to cover only the same countries and timeframe\n",
        "\n",
        "def find_common_years_and_countries(df_list):\n",
        "\n",
        "    # get min and max years \n",
        "    min_years = []\n",
        "    max_years = []\n",
        "    for df in df_list:\n",
        "        min_years.append(df.columns[1:].min())\n",
        "        max_years.append(df.columns[1:].max())\n",
        "    \n",
        "    # find overlapping year range\n",
        "    start_year = max(min_years)\n",
        "    end_year = min(max_years)\n",
        "    \n",
        "    # find common set of countries\n",
        "    common_countries = set(df_list[0]['country'])\n",
        "    for df in df_list:\n",
        "        common_countries = common_countries.intersection(df['country'])\n",
        "    \n",
        "    # cut to only include overlapping year range and common countries\n",
        "    new_df_list = []\n",
        "    for df in df_list:\n",
        "        new_df = df.loc[df['country'].isin(common_countries), ['country']]\n",
        "        for col in df.columns:\n",
        "            if col >= start_year and col <= end_year:\n",
        "                new_df[col] = df.loc[df['country'].isin(common_countries), col]\n",
        "        new_df_list.append(new_df)\n",
        "    \n",
        "    return new_df_list"
      ],
      "metadata": {
        "id": "uDoLDMNdVVdU"
      },
      "execution_count": null,
      "outputs": []
    },
    {
      "cell_type": "code",
      "source": [
        "dataframes = [happiness, cell_phones, democracy, human_dev, internet, murders, women_in_gov]\n",
        "overlapping_dataframes = find_common_years_and_countries(dataframes)"
      ],
      "metadata": {
        "id": "3olxImOBFLHc"
      },
      "execution_count": null,
      "outputs": []
    },
    {
      "cell_type": "code",
      "source": [
        "#resetting indices\n",
        "for count, i in enumerate(overlapping_dataframes):\n",
        "  overlapping_dataframes[count] = overlapping_dataframes[count].reset_index(drop=True)"
      ],
      "metadata": {
        "id": "fDEV9OIjeEdr"
      },
      "execution_count": null,
      "outputs": []
    },
    {
      "cell_type": "code",
      "source": [
        "#keeping track of what variables the dataframes represent\n",
        "overlapping_dataframes[0]['var'] = 'happiness'\n",
        "overlapping_dataframes[1]['var'] = 'cell_phones'\n",
        "overlapping_dataframes[2]['var'] = 'democracy'\n",
        "overlapping_dataframes[3]['var'] = 'human_dev'\n",
        "overlapping_dataframes[4]['var'] = 'internet'\n",
        "overlapping_dataframes[5]['var'] = 'murders'\n",
        "overlapping_dataframes[6]['var'] = 'women_in_gov'"
      ],
      "metadata": {
        "id": "FfJTM5r39Bi7"
      },
      "execution_count": null,
      "outputs": []
    },
    {
      "cell_type": "code",
      "source": [
        "#combining to create master dataframe and resetting indices again\n",
        "master_df = pd.concat(overlapping_dataframes)\n",
        "master_df = master_df.reset_index(drop=True)"
      ],
      "metadata": {
        "id": "FZ9a2wYd4kk5"
      },
      "execution_count": null,
      "outputs": []
    },
    {
      "cell_type": "code",
      "source": [
        "#making sure that datatypes makes sense\n",
        "def datatype_fixer(df):\n",
        "  df['country'] = df['country'].astype('string')\n",
        "  df['2004'] = pd.to_numeric(df['2004'], errors='coerce')\n",
        "  df['2005'] = pd.to_numeric(df['2005'], errors='coerce')\n",
        "  df['2006'] = pd.to_numeric(df['2006'], errors='coerce')\n",
        "  df['2007'] = pd.to_numeric(df['2007'], errors='coerce')\n",
        "  df['2008'] = pd.to_numeric(df['2008'], errors='coerce')\n",
        "  df['2009'] = pd.to_numeric(df['2009'], errors='coerce')\n",
        "  df['2010'] = pd.to_numeric(df['2010'], errors='coerce')\n",
        "  df['var'] = df['var'].astype('string')\n",
        "  return df"
      ],
      "metadata": {
        "id": "d2F-VDNuas1c"
      },
      "execution_count": null,
      "outputs": []
    },
    {
      "cell_type": "code",
      "source": [
        "master_df = datatype_fixer(master_df)"
      ],
      "metadata": {
        "id": "y0fImjYXa1qv"
      },
      "execution_count": null,
      "outputs": []
    },
    {
      "cell_type": "code",
      "source": [
        "master_df"
      ],
      "metadata": {
        "colab": {
          "base_uri": "https://localhost:8080/",
          "height": 423
        },
        "id": "mKC2dqDf9vwD",
        "outputId": "e23c54cc-8793-4a8f-8420-054d72559c40"
      },
      "execution_count": null,
      "outputs": [
        {
          "output_type": "execute_result",
          "data": {
            "text/plain": [
              "                 country   2004   2005   2006   2007   2008  2009   2010  \\\n",
              "0                Albania    NaN    NaN  46.30    NaN  54.90  52.7  58.70   \n",
              "1              Argentina    NaN  63.10  60.70  59.60  64.20  64.4  67.80   \n",
              "2                Armenia    NaN  42.90  48.80  46.50  41.80  43.7  42.60   \n",
              "3              Australia  73.40    NaN  72.80  72.50    NaN  74.5  74.10   \n",
              "4                Austria    NaN  71.20    NaN  71.80    NaN  73.0  74.70   \n",
              "..                   ...    ...    ...    ...    ...    ...   ...    ...   \n",
              "583  Trinidad and Tobago  30.30  31.80  33.30  31.50  29.60  27.8  28.50   \n",
              "584              Tunisia  13.40  14.00  14.60  15.20  27.60  26.9  26.50   \n",
              "585               Turkey   7.21   8.16   9.11  10.40  11.70  12.9  14.20   \n",
              "586              Ukraine   6.67   7.11   8.33   8.45   8.61   8.8   9.07   \n",
              "587         South Africa  32.70  35.00  37.50  40.20  43.10  42.6  42.10   \n",
              "\n",
              "              var  \n",
              "0       happiness  \n",
              "1       happiness  \n",
              "2       happiness  \n",
              "3       happiness  \n",
              "4       happiness  \n",
              "..            ...  \n",
              "583  women_in_gov  \n",
              "584  women_in_gov  \n",
              "585  women_in_gov  \n",
              "586  women_in_gov  \n",
              "587  women_in_gov  \n",
              "\n",
              "[588 rows x 9 columns]"
            ],
            "text/html": [
              "\n",
              "  <div id=\"df-4a3bf806-f761-4042-94be-a64e70b47171\">\n",
              "    <div class=\"colab-df-container\">\n",
              "      <div>\n",
              "<style scoped>\n",
              "    .dataframe tbody tr th:only-of-type {\n",
              "        vertical-align: middle;\n",
              "    }\n",
              "\n",
              "    .dataframe tbody tr th {\n",
              "        vertical-align: top;\n",
              "    }\n",
              "\n",
              "    .dataframe thead th {\n",
              "        text-align: right;\n",
              "    }\n",
              "</style>\n",
              "<table border=\"1\" class=\"dataframe\">\n",
              "  <thead>\n",
              "    <tr style=\"text-align: right;\">\n",
              "      <th></th>\n",
              "      <th>country</th>\n",
              "      <th>2004</th>\n",
              "      <th>2005</th>\n",
              "      <th>2006</th>\n",
              "      <th>2007</th>\n",
              "      <th>2008</th>\n",
              "      <th>2009</th>\n",
              "      <th>2010</th>\n",
              "      <th>var</th>\n",
              "    </tr>\n",
              "  </thead>\n",
              "  <tbody>\n",
              "    <tr>\n",
              "      <th>0</th>\n",
              "      <td>Albania</td>\n",
              "      <td>NaN</td>\n",
              "      <td>NaN</td>\n",
              "      <td>46.30</td>\n",
              "      <td>NaN</td>\n",
              "      <td>54.90</td>\n",
              "      <td>52.7</td>\n",
              "      <td>58.70</td>\n",
              "      <td>happiness</td>\n",
              "    </tr>\n",
              "    <tr>\n",
              "      <th>1</th>\n",
              "      <td>Argentina</td>\n",
              "      <td>NaN</td>\n",
              "      <td>63.10</td>\n",
              "      <td>60.70</td>\n",
              "      <td>59.60</td>\n",
              "      <td>64.20</td>\n",
              "      <td>64.4</td>\n",
              "      <td>67.80</td>\n",
              "      <td>happiness</td>\n",
              "    </tr>\n",
              "    <tr>\n",
              "      <th>2</th>\n",
              "      <td>Armenia</td>\n",
              "      <td>NaN</td>\n",
              "      <td>42.90</td>\n",
              "      <td>48.80</td>\n",
              "      <td>46.50</td>\n",
              "      <td>41.80</td>\n",
              "      <td>43.7</td>\n",
              "      <td>42.60</td>\n",
              "      <td>happiness</td>\n",
              "    </tr>\n",
              "    <tr>\n",
              "      <th>3</th>\n",
              "      <td>Australia</td>\n",
              "      <td>73.40</td>\n",
              "      <td>NaN</td>\n",
              "      <td>72.80</td>\n",
              "      <td>72.50</td>\n",
              "      <td>NaN</td>\n",
              "      <td>74.5</td>\n",
              "      <td>74.10</td>\n",
              "      <td>happiness</td>\n",
              "    </tr>\n",
              "    <tr>\n",
              "      <th>4</th>\n",
              "      <td>Austria</td>\n",
              "      <td>NaN</td>\n",
              "      <td>71.20</td>\n",
              "      <td>NaN</td>\n",
              "      <td>71.80</td>\n",
              "      <td>NaN</td>\n",
              "      <td>73.0</td>\n",
              "      <td>74.70</td>\n",
              "      <td>happiness</td>\n",
              "    </tr>\n",
              "    <tr>\n",
              "      <th>...</th>\n",
              "      <td>...</td>\n",
              "      <td>...</td>\n",
              "      <td>...</td>\n",
              "      <td>...</td>\n",
              "      <td>...</td>\n",
              "      <td>...</td>\n",
              "      <td>...</td>\n",
              "      <td>...</td>\n",
              "      <td>...</td>\n",
              "    </tr>\n",
              "    <tr>\n",
              "      <th>583</th>\n",
              "      <td>Trinidad and Tobago</td>\n",
              "      <td>30.30</td>\n",
              "      <td>31.80</td>\n",
              "      <td>33.30</td>\n",
              "      <td>31.50</td>\n",
              "      <td>29.60</td>\n",
              "      <td>27.8</td>\n",
              "      <td>28.50</td>\n",
              "      <td>women_in_gov</td>\n",
              "    </tr>\n",
              "    <tr>\n",
              "      <th>584</th>\n",
              "      <td>Tunisia</td>\n",
              "      <td>13.40</td>\n",
              "      <td>14.00</td>\n",
              "      <td>14.60</td>\n",
              "      <td>15.20</td>\n",
              "      <td>27.60</td>\n",
              "      <td>26.9</td>\n",
              "      <td>26.50</td>\n",
              "      <td>women_in_gov</td>\n",
              "    </tr>\n",
              "    <tr>\n",
              "      <th>585</th>\n",
              "      <td>Turkey</td>\n",
              "      <td>7.21</td>\n",
              "      <td>8.16</td>\n",
              "      <td>9.11</td>\n",
              "      <td>10.40</td>\n",
              "      <td>11.70</td>\n",
              "      <td>12.9</td>\n",
              "      <td>14.20</td>\n",
              "      <td>women_in_gov</td>\n",
              "    </tr>\n",
              "    <tr>\n",
              "      <th>586</th>\n",
              "      <td>Ukraine</td>\n",
              "      <td>6.67</td>\n",
              "      <td>7.11</td>\n",
              "      <td>8.33</td>\n",
              "      <td>8.45</td>\n",
              "      <td>8.61</td>\n",
              "      <td>8.8</td>\n",
              "      <td>9.07</td>\n",
              "      <td>women_in_gov</td>\n",
              "    </tr>\n",
              "    <tr>\n",
              "      <th>587</th>\n",
              "      <td>South Africa</td>\n",
              "      <td>32.70</td>\n",
              "      <td>35.00</td>\n",
              "      <td>37.50</td>\n",
              "      <td>40.20</td>\n",
              "      <td>43.10</td>\n",
              "      <td>42.6</td>\n",
              "      <td>42.10</td>\n",
              "      <td>women_in_gov</td>\n",
              "    </tr>\n",
              "  </tbody>\n",
              "</table>\n",
              "<p>588 rows × 9 columns</p>\n",
              "</div>\n",
              "      <button class=\"colab-df-convert\" onclick=\"convertToInteractive('df-4a3bf806-f761-4042-94be-a64e70b47171')\"\n",
              "              title=\"Convert this dataframe to an interactive table.\"\n",
              "              style=\"display:none;\">\n",
              "        \n",
              "  <svg xmlns=\"http://www.w3.org/2000/svg\" height=\"24px\"viewBox=\"0 0 24 24\"\n",
              "       width=\"24px\">\n",
              "    <path d=\"M0 0h24v24H0V0z\" fill=\"none\"/>\n",
              "    <path d=\"M18.56 5.44l.94 2.06.94-2.06 2.06-.94-2.06-.94-.94-2.06-.94 2.06-2.06.94zm-11 1L8.5 8.5l.94-2.06 2.06-.94-2.06-.94L8.5 2.5l-.94 2.06-2.06.94zm10 10l.94 2.06.94-2.06 2.06-.94-2.06-.94-.94-2.06-.94 2.06-2.06.94z\"/><path d=\"M17.41 7.96l-1.37-1.37c-.4-.4-.92-.59-1.43-.59-.52 0-1.04.2-1.43.59L10.3 9.45l-7.72 7.72c-.78.78-.78 2.05 0 2.83L4 21.41c.39.39.9.59 1.41.59.51 0 1.02-.2 1.41-.59l7.78-7.78 2.81-2.81c.8-.78.8-2.07 0-2.86zM5.41 20L4 18.59l7.72-7.72 1.47 1.35L5.41 20z\"/>\n",
              "  </svg>\n",
              "      </button>\n",
              "      \n",
              "  <style>\n",
              "    .colab-df-container {\n",
              "      display:flex;\n",
              "      flex-wrap:wrap;\n",
              "      gap: 12px;\n",
              "    }\n",
              "\n",
              "    .colab-df-convert {\n",
              "      background-color: #E8F0FE;\n",
              "      border: none;\n",
              "      border-radius: 50%;\n",
              "      cursor: pointer;\n",
              "      display: none;\n",
              "      fill: #1967D2;\n",
              "      height: 32px;\n",
              "      padding: 0 0 0 0;\n",
              "      width: 32px;\n",
              "    }\n",
              "\n",
              "    .colab-df-convert:hover {\n",
              "      background-color: #E2EBFA;\n",
              "      box-shadow: 0px 1px 2px rgba(60, 64, 67, 0.3), 0px 1px 3px 1px rgba(60, 64, 67, 0.15);\n",
              "      fill: #174EA6;\n",
              "    }\n",
              "\n",
              "    [theme=dark] .colab-df-convert {\n",
              "      background-color: #3B4455;\n",
              "      fill: #D2E3FC;\n",
              "    }\n",
              "\n",
              "    [theme=dark] .colab-df-convert:hover {\n",
              "      background-color: #434B5C;\n",
              "      box-shadow: 0px 1px 3px 1px rgba(0, 0, 0, 0.15);\n",
              "      filter: drop-shadow(0px 1px 2px rgba(0, 0, 0, 0.3));\n",
              "      fill: #FFFFFF;\n",
              "    }\n",
              "  </style>\n",
              "\n",
              "      <script>\n",
              "        const buttonEl =\n",
              "          document.querySelector('#df-4a3bf806-f761-4042-94be-a64e70b47171 button.colab-df-convert');\n",
              "        buttonEl.style.display =\n",
              "          google.colab.kernel.accessAllowed ? 'block' : 'none';\n",
              "\n",
              "        async function convertToInteractive(key) {\n",
              "          const element = document.querySelector('#df-4a3bf806-f761-4042-94be-a64e70b47171');\n",
              "          const dataTable =\n",
              "            await google.colab.kernel.invokeFunction('convertToInteractive',\n",
              "                                                     [key], {});\n",
              "          if (!dataTable) return;\n",
              "\n",
              "          const docLinkHtml = 'Like what you see? Visit the ' +\n",
              "            '<a target=\"_blank\" href=https://colab.research.google.com/notebooks/data_table.ipynb>data table notebook</a>'\n",
              "            + ' to learn more about interactive tables.';\n",
              "          element.innerHTML = '';\n",
              "          dataTable['output_type'] = 'display_data';\n",
              "          await google.colab.output.renderOutput(dataTable, element);\n",
              "          const docLink = document.createElement('div');\n",
              "          docLink.innerHTML = docLinkHtml;\n",
              "          element.appendChild(docLink);\n",
              "        }\n",
              "      </script>\n",
              "    </div>\n",
              "  </div>\n",
              "  "
            ]
          },
          "metadata": {},
          "execution_count": 67
        }
      ]
    },
    {
      "cell_type": "code",
      "source": [
        "def normalize_variables(master_df):\n",
        "    normalized_master_df = master_df.copy()\n",
        "    variables = ['happiness', 'cell_phones', 'democracy', 'human_dev', 'internet', 'murders', 'women_in_gov']\n",
        "    scaling_factors = {}\n",
        "\n",
        "    for variable in variables:\n",
        "        # Select rows corresponding to the current variable\n",
        "        rows = (normalized_master_df.iloc[:, -1] == variable)\n",
        "\n",
        "        # Select only numeric columns (ignoring the first and last columns)\n",
        "        columns = normalized_master_df.loc[rows].iloc[:, 1:-1].select_dtypes(include=np.number).columns\n",
        "\n",
        "        # Normalize values of the selected rows and columns\n",
        "        min_value = normalized_master_df.loc[rows, columns].min().min()\n",
        "        max_value = normalized_master_df.loc[rows, columns].max().max()\n",
        "        scaling_factors[variable] = (min_value, max_value)\n",
        "        normalized_master_df.loc[rows, columns] = (normalized_master_df.loc[rows, columns] - min_value) / (max_value - min_value)\n",
        "\n",
        "    return normalized_master_df, scaling_factors"
      ],
      "metadata": {
        "id": "Z564IWr8PDVE"
      },
      "execution_count": null,
      "outputs": []
    },
    {
      "cell_type": "code",
      "source": [
        "master_df, scaling_factors = normalize_variables(master_df)"
      ],
      "metadata": {
        "id": "CiulO-66PFyp"
      },
      "execution_count": null,
      "outputs": []
    },
    {
      "cell_type": "code",
      "source": [
        "#create the training set by dropping values randomly\n",
        "# also leaves original df unchanged while creating a key for later\n",
        "def dropper(unchanged):\n",
        "    # make copies\n",
        "    changed = unchanged.copy()\n",
        "    country_keeper = changed[\"country\"].copy()\n",
        "    var_keeper = changed[\"var\"].copy()\n",
        "\n",
        "    # set proportion of dropped values\n",
        "    probability = 0.2\n",
        "\n",
        "    # keep log of what is dropped\n",
        "    key = pd.DataFrame(False, index=changed.index, columns=changed.columns)\n",
        "\n",
        "    # drop stuff\n",
        "    for i, row in changed.iterrows():\n",
        "        # check for missing values\n",
        "        non_missing_mask = ~row.isnull()\n",
        "        # apply dropping logic only to non-missing values\n",
        "        non_missing_mask &= (np.random.rand(*row.shape) < probability)\n",
        "        key.loc[i, non_missing_mask] = True\n",
        "        changed.loc[i, non_missing_mask] = np.nan\n",
        "\n",
        "    # make sure it doesn't drop the important stuff\n",
        "    changed[\"country\"] = country_keeper\n",
        "    changed[\"var\"] = var_keeper\n",
        "    key[\"country\"] = country_keeper\n",
        "    key[\"var\"] = var_keeper\n",
        "\n",
        "    return changed, key"
      ],
      "metadata": {
        "id": "Q5mVQ2nFZ4Lj"
      },
      "execution_count": null,
      "outputs": []
    },
    {
      "cell_type": "code",
      "source": [
        "training_set, key = dropper(master_df)"
      ],
      "metadata": {
        "id": "_8U0O95TkFdy"
      },
      "execution_count": null,
      "outputs": []
    },
    {
      "cell_type": "code",
      "source": [
        "#some rows don't contain any information, so there's no point keeping them\n",
        "def remove_nan_rows(training_df, master_df, key_df):\n",
        "    # Create a mask for rows containing only NaN values in the training_df\n",
        "    mask = training_df.iloc[:, 1:-1].isna().all(axis=1)\n",
        "\n",
        "    # Invert the mask to get rows that contain at least one non-NaN value\n",
        "    valid_rows = ~mask\n",
        "\n",
        "    # Apply the mask to all three dataframes\n",
        "    cleaned_training_df = training_df[valid_rows]\n",
        "    cleaned_master_df = master_df[valid_rows]\n",
        "    cleaned_key_df = key_df[valid_rows]\n",
        "\n",
        "    return cleaned_training_df, cleaned_master_df, cleaned_key_df"
      ],
      "metadata": {
        "id": "DAb3BtsIe3NT"
      },
      "execution_count": null,
      "outputs": []
    },
    {
      "cell_type": "code",
      "source": [
        "training_set, master_df, key = remove_nan_rows(training_set, master_df, key)\n",
        "training_set = training_set.reset_index(drop=True)\n",
        "master_df = master_df.reset_index(drop=True)\n",
        "key = key.reset_index(drop=True)"
      ],
      "metadata": {
        "id": "h4AYqJ2SkoyW"
      },
      "execution_count": null,
      "outputs": []
    },
    {
      "cell_type": "code",
      "source": [
        "#function for scoring models\n",
        "def compare_dataframes(master_df, filled_df, key_df):\n",
        "    diff_sum = 0\n",
        "    n_of_nans = 0\n",
        "    # loop through each row and column in the key dataframe\n",
        "    for row in key_df.index:\n",
        "        for col in key_df.columns:\n",
        "            # exclude the first and last columns\n",
        "            if col not in [master_df.columns[0], master_df.columns[-1]]:\n",
        "                # if the value in the key dataframe is True, compare the corresponding elements\n",
        "                if key_df.loc[row, col]:\n",
        "                    # check that the corresponding elements are integers before computing the absolute difference\n",
        "                    diff_sum += abs(master_df.loc[row, col] - filled_df.loc[row, col])\n",
        "                    n_of_nans += 1\n",
        "\n",
        "    percent_wrong = (diff_sum / n_of_nans) * 100\n",
        "    # return the sum of the absolute differences\n",
        "    useful_percent_wrong = round(percent_wrong, 5)\n",
        "    return useful_percent_wrong"
      ],
      "metadata": {
        "id": "gRtK1XfG5C6J"
      },
      "execution_count": null,
      "outputs": []
    },
    {
      "cell_type": "code",
      "source": [
        "#most basic model simply replaces nans with 0\n",
        "def nan_to_zero(df):\n",
        "  it = df.copy()\n",
        "  it = it.fillna(0)\n",
        "  return(it)"
      ],
      "metadata": {
        "id": "YU9_RF_xAVmd"
      },
      "execution_count": null,
      "outputs": []
    },
    {
      "cell_type": "code",
      "source": [
        "#basic model that replaces nan values with mean value for that row\n",
        "def nan_to_mean(df):\n",
        "  it = df.copy()\n",
        "  row_means = it.mean(axis=1, skipna=True)\n",
        "  for i, row in it.iterrows():\n",
        "      for j, value in row.iteritems():\n",
        "          if pd.isnull(value):\n",
        "              it.at[i, j] = row_means[i]\n",
        "\n",
        "  return it"
      ],
      "metadata": {
        "id": "A3bWnpXCrjv_"
      },
      "execution_count": null,
      "outputs": []
    },
    {
      "cell_type": "code",
      "source": [
        "from sklearn.linear_model import LinearRegression\n",
        "\n",
        "def nan_to_linear(df):\n",
        "    filled_df = df.copy()\n",
        "\n",
        "    for i, row in filled_df.iterrows():\n",
        "        # Extract numeric columns (ignoring the first and last columns)\n",
        "        numeric_data = row.iloc[1:-1]\n",
        "\n",
        "        # Check if there are any missing values in the row\n",
        "        if numeric_data.isna().any():\n",
        "            # Extract available data points (both X and y)\n",
        "            not_null_mask = ~numeric_data.isna()\n",
        "            X = np.array(numeric_data[not_null_mask].index, dtype=int).reshape(-1, 1)\n",
        "            y = numeric_data[not_null_mask].values\n",
        "\n",
        "            # Fit a linear regression model\n",
        "            model = LinearRegression()\n",
        "            model.fit(X, y)\n",
        "\n",
        "            # Identify missing values and use the model to predict them\n",
        "            null_mask = numeric_data.isna()\n",
        "            X_pred = np.array(numeric_data[null_mask].index, dtype=int).reshape(-1, 1)\n",
        "            y_pred = model.predict(X_pred)\n",
        "\n",
        "            # Fill missing values in the row with predicted values\n",
        "            null_columns = null_mask[null_mask].index\n",
        "            filled_df.loc[i, null_columns] = y_pred\n",
        "\n",
        "    return filled_df"
      ],
      "metadata": {
        "id": "RpLwD4pJGWbP"
      },
      "execution_count": null,
      "outputs": []
    },
    {
      "cell_type": "code",
      "source": [
        "from sklearn.linear_model import LinearRegression\n",
        "from sklearn.preprocessing import PolynomialFeatures\n",
        "\n",
        "def nan_to_polynomial(df, degree=2):\n",
        "    filled_df = df.copy()\n",
        "\n",
        "    # Assuming X values are the same for all rows, create the X matrix only once\n",
        "    X = np.array(df.columns[1:-1], dtype=int).reshape(-1, 1)\n",
        "    poly = PolynomialFeatures(degree=degree)\n",
        "    X_poly = poly.fit_transform(X)\n",
        "\n",
        "    for i, row in filled_df.iterrows():\n",
        "        numeric_data = row.iloc[1:-1]\n",
        "\n",
        "        if numeric_data.isna().any():\n",
        "            not_null_mask = ~numeric_data.isna()\n",
        "            y = numeric_data[not_null_mask].values\n",
        "\n",
        "            model = LinearRegression()\n",
        "            model.fit(X_poly[not_null_mask], y)\n",
        "\n",
        "            null_mask = numeric_data.isna()\n",
        "            y_pred = model.predict(X_poly[null_mask])\n",
        "\n",
        "            null_columns = null_mask[null_mask].index\n",
        "            filled_df.loc[i, null_columns] = y_pred\n",
        "\n",
        "    return filled_df"
      ],
      "metadata": {
        "id": "JGGyGYTeRNRQ"
      },
      "execution_count": null,
      "outputs": []
    },
    {
      "cell_type": "code",
      "source": [
        "from sklearn.impute import KNNImputer\n",
        "\n",
        "def knn_impute(training_set, n_neighbors=13):\n",
        "    # Prepare the data for the KNN imputation\n",
        "    training_set_numeric = training_set.iloc[:, 1:-1]\n",
        "    countries = training_set['country']\n",
        "    variables = training_set['var']\n",
        "    \n",
        "    # Apply the KNN imputation\n",
        "    imputer = KNNImputer(n_neighbors=n_neighbors)\n",
        "    filled_array = imputer.fit_transform(training_set_numeric)\n",
        "    \n",
        "    # Convert the filled array back into a DataFrame\n",
        "    filled_df = pd.DataFrame(filled_array, columns=training_set_numeric.columns)\n",
        "    filled_df['country'] = countries\n",
        "    filled_df['var'] = variables\n",
        "    filled_df = filled_df[training_set.columns]\n",
        "\n",
        "    return filled_df\n"
      ],
      "metadata": {
        "id": "1s76vAjsvPQR"
      },
      "execution_count": null,
      "outputs": []
    },
    {
      "cell_type": "code",
      "source": [
        "knn_model = knn_impute(training_set)"
      ],
      "metadata": {
        "id": "kLhf4ngGf_kR"
      },
      "execution_count": null,
      "outputs": []
    },
    {
      "cell_type": "code",
      "source": [
        "linear_model = nan_to_linear(training_set)"
      ],
      "metadata": {
        "id": "MrK1YZ6AGr29"
      },
      "execution_count": null,
      "outputs": []
    },
    {
      "cell_type": "code",
      "source": [
        "polynomial_model = nan_to_polynomial(training_set)"
      ],
      "metadata": {
        "id": "ukvbjBezRSwR"
      },
      "execution_count": null,
      "outputs": []
    },
    {
      "cell_type": "code",
      "source": [
        "mean_model = nan_to_mean(training_set)"
      ],
      "metadata": {
        "id": "gVjIhCV5Cvdy",
        "outputId": "8ff59aa6-656b-447c-8cee-1240497bb159",
        "colab": {
          "base_uri": "https://localhost:8080/"
        }
      },
      "execution_count": null,
      "outputs": [
        {
          "output_type": "stream",
          "name": "stderr",
          "text": [
            "<ipython-input-76-17f8cdae134c>:4: FutureWarning: Dropping of nuisance columns in DataFrame reductions (with 'numeric_only=None') is deprecated; in a future version this will raise TypeError.  Select only valid columns before calling the reduction.\n",
            "  row_means = it.mean(axis=1, skipna=True)\n",
            "<ipython-input-76-17f8cdae134c>:6: FutureWarning: iteritems is deprecated and will be removed in a future version. Use .items instead.\n",
            "  for j, value in row.iteritems():\n"
          ]
        }
      ]
    },
    {
      "cell_type": "code",
      "source": [
        "zero_model = nan_to_zero(training_set)"
      ],
      "metadata": {
        "id": "Gw7qWGSQllry"
      },
      "execution_count": null,
      "outputs": []
    },
    {
      "cell_type": "code",
      "source": [
        "from sklearn.neural_network import MLPRegressor\n",
        "from sklearn.model_selection import RandomizedSearchCV\n",
        "from sklearn.metrics import make_scorer\n",
        "from sklearn.metrics import mean_squared_error\n",
        "\n",
        "def neural_network_impute2(output_model, key):\n",
        "    filled_df = output_model.copy()\n",
        "    columns_to_impute = output_model.columns[1:-1]\n",
        "\n",
        "    # Define the hyperparameter distribution for RandomizedSearchCV\n",
        "    param_dist = {\n",
        "    'hidden_layer_sizes': [ (50, 25), (100, 50), (200, 100), (50, 25, 10), (100, 50, 25), (200, 100, 50)],\n",
        "    'activation': ['identity', 'logistic', 'tanh', 'relu'],\n",
        "    'solver': ['lbfgs'],\n",
        "    'alpha': [0.0001, 0.001, 0.01, 0.1, 1],\n",
        "    'learning_rate_init': [0.01, 0.001, 0.0001, 0.00001],\n",
        "    'max_iter': [100, 300, 500, 1000],\n",
        "    'momentum': [0.1, 0.5, 0.9],\n",
        "    'learning_rate': ['constant', 'invscaling', 'adaptive'],\n",
        "}\n",
        "\n",
        "    # Create a custom scoring function for RandomizedSearchCV (use negative mean squared error)\n",
        "    scoring = make_scorer(mean_squared_error, greater_is_better=False)\n",
        "\n",
        "    for col in columns_to_impute:\n",
        "        missing_mask = key[col]\n",
        "        train_X = output_model.loc[~missing_mask, output_model.columns.difference(['country', 'var'])]\n",
        "        train_y = output_model.loc[~missing_mask, col]\n",
        "        test_X = output_model.loc[missing_mask, output_model.columns.difference(['country', 'var'])]\n",
        "\n",
        "        if test_X.shape[0] > 0:\n",
        "            nn = MLPRegressor()\n",
        "            \n",
        "            # Perform randomized search to find the optimal hyperparameters\n",
        "            random_search = RandomizedSearchCV(nn, param_distributions=param_dist, n_iter=10, scoring=scoring, cv=5, n_jobs=-1, random_state=42)\n",
        "            random_search.fit(train_X, train_y)\n",
        "\n",
        "            # Train the MLPRegressor with the optimal hyperparameters\n",
        "            best_nn = random_search.best_estimator_\n",
        "            best_nn.fit(train_X, train_y)\n",
        "\n",
        "            filled_df.loc[missing_mask, col] = best_nn.predict(test_X)\n",
        "    nn_model = filled_df\n",
        "    return nn_model"
      ],
      "metadata": {
        "id": "XcfdPF27RDcq"
      },
      "execution_count": null,
      "outputs": []
    },
    {
      "cell_type": "code",
      "source": [
        "nn_model_linear = neural_network_impute2(linear_model, key)\n",
        "nn_model_zero = neural_network_impute2(zero_model, key)\n",
        "nn_model_mean = neural_network_impute2(mean_model, key)\n",
        "nn_model_polynomial = neural_network_impute2(polynomial_model, key)\n",
        "nn_model_knn = neural_network_impute2(knn_model, key)"
      ],
      "metadata": {
        "id": "1AWirSjMfPf4"
      },
      "execution_count": null,
      "outputs": []
    },
    {
      "cell_type": "code",
      "source": [
        "print('Linear based NN model : ' + str(compare_dataframes(master_df, nn_model_linear, key)))\n",
        "print('Polynomial based NN model : ' + str(compare_dataframes(master_df, nn_model_polynomial, key)))\n",
        "print('KNN based NN model : ' + str(compare_dataframes(master_df, nn_model_knn, key)))\n",
        "print('Mean based NN model : ' + str(compare_dataframes(master_df, nn_model_mean, key)))\n",
        "print('Zero based NN model : ' + str(compare_dataframes(master_df, nn_model_zero, key)))"
      ],
      "metadata": {
        "colab": {
          "base_uri": "https://localhost:8080/"
        },
        "id": "lM74B1V3fPLe",
        "outputId": "d7f1d2ea-d97e-45a9-a825-438a514ebbf4"
      },
      "execution_count": null,
      "outputs": [
        {
          "output_type": "stream",
          "name": "stdout",
          "text": [
            "Linear based NN model : 3.09994\n",
            "Polynomial based NN model : 3.9861\n",
            "KNN based NN model : 3.61331\n",
            "Mean based NN model : 5.11419\n",
            "Zero based NN model : 48.79876\n"
          ]
        }
      ]
    },
    {
      "cell_type": "code",
      "source": [
        "print('Linear model : ' + str(compare_dataframes(master_df, linear_model, key)))\n",
        "print('Polynomial model : ' + str(compare_dataframes(master_df, polynomial_model, key)))\n",
        "print('KNN model : ' + str(compare_dataframes(master_df, knn_model, key)))\n",
        "print('Mean model : ' + str(compare_dataframes(master_df, mean_model, key)))\n",
        "print('Zero model : ' + str(compare_dataframes(master_df, zero_model, key)))"
      ],
      "metadata": {
        "id": "Y1fANHUHChuo",
        "colab": {
          "base_uri": "https://localhost:8080/"
        },
        "outputId": "2911085e-cd22-44a9-8eef-eb803d830eee"
      },
      "execution_count": null,
      "outputs": [
        {
          "output_type": "stream",
          "name": "stdout",
          "text": [
            "Linear model : 3.12907\n",
            "Polynomial model : 4.01923\n",
            "KNN model : 3.64168\n",
            "Mean model : 5.17919\n",
            "Zero model : 48.81514\n"
          ]
        }
      ]
    },
    {
      "cell_type": "code",
      "source": [
        "def denormalize_variables(normalized_df, scaling_factors):\n",
        "    denormalized_df = normalized_df.copy()\n",
        "    variables = ['happiness', 'cell_phones', 'democracy', 'human_dev', 'internet', 'murders', 'women_in_gov']\n",
        "\n",
        "    for variable in variables:\n",
        "        # Select rows corresponding to the current variable\n",
        "        rows = (denormalized_df.iloc[:, -1] == variable)\n",
        "\n",
        "        # Select only numeric columns (ignoring the first and last columns)\n",
        "        columns = denormalized_df.loc[rows].iloc[:, 1:-1].select_dtypes(include=np.number).columns\n",
        "\n",
        "        # Denormalize values of the selected rows and columns\n",
        "        min_value, max_value = scaling_factors[variable]\n",
        "        denormalized_df.loc[rows, columns] = denormalized_df.loc[rows, columns] * (max_value - min_value) + min_value\n",
        "\n",
        "    return denormalized_df"
      ],
      "metadata": {
        "id": "XnPANaLAeawA"
      },
      "execution_count": null,
      "outputs": []
    },
    {
      "cell_type": "code",
      "source": [
        "denormalized_master_df = denormalize_variables(master_df, scaling_factors)\n",
        "denormalized_linear_model = denormalize_variables(linear_model, scaling_factors)\n",
        "denormalized_polynomial_model = denormalize_variables(polynomial_model, scaling_factors)\n",
        "denormalized_knn_model = denormalize_variables(knn_model, scaling_factors)\n",
        "denormalized_zero_model = denormalize_variables(zero_model, scaling_factors)\n",
        "denormalized_mean_model = denormalize_variables(mean_model, scaling_factors)\n",
        "\n",
        "denormalized_linear_nn_model = denormalize_variables(nn_model_linear, scaling_factors)\n",
        "denormalized_polynomial_nn_model = denormalize_variables(nn_model_polynomial, scaling_factors)\n",
        "denormalized_knn_nn_model = denormalize_variables(nn_model_knn, scaling_factors)\n",
        "denormalized_zero_nn_model = denormalize_variables(nn_model_zero, scaling_factors)\n",
        "denormalized_mean_nn_model = denormalize_variables(nn_model_mean, scaling_factors)"
      ],
      "metadata": {
        "id": "hHXIeA2ceset"
      },
      "execution_count": null,
      "outputs": []
    },
    {
      "cell_type": "code",
      "source": [
        "import matplotlib.pyplot as plt\n",
        "\n",
        "def plot_row(master_df, row_index, collor, allpha):\n",
        "    row = master_df.iloc[row_index, 1:-1]\n",
        "    years = row.index.astype(int)\n",
        "    values = row.values\n",
        "\n",
        "    plt.plot(years, values, marker='o', color=collor, alpha = allpha)\n",
        "    plt.xlabel('Years')\n",
        "    plt.ylabel(str(master_df.iloc[row_index,-1]))\n",
        "    plt.title(str(master_df.iloc[row_index,0]))\n",
        "    plt.xticks(years)\n",
        "    plt.grid()\n"
      ],
      "metadata": {
        "id": "4KzRy-Ha6AQp"
      },
      "execution_count": null,
      "outputs": []
    },
    {
      "cell_type": "code",
      "source": [
        "row = 25\n",
        "\n",
        "plot_row(denormalized_linear_model, row, collor = 'red', allpha = 0.7)\n",
        "#plot_row(denormalized_polynomial_model, row, collor = 'green', allpha = 0.7)\n",
        "#plot_row(denormalized_knn_model, row, collor = 'yellow', allpha = 0.7)\n",
        "#plot_row(denormalized_zero_model, row, collor = 'purple', allpha = 0.7)\n",
        "#plot_row(denormalized_mean_model, row, collor = 'orange', allpha = 0.7)\n",
        "#plot_row(denormalized_master_df, row, collor = 'blue', allpha = 1)\n",
        "\n",
        "plot_row(denormalized_linear_nn_model, row, collor = 'blue', allpha = 0.7)\n",
        "#plot_row(denormalized_polynomial_nn_model, row, collor = 'green', allpha = 0.7)\n",
        "#plot_row(denormalized_knn_nn_model, row, collor = 'yellow', allpha = 0.7)\n",
        "#plot_row(denormalized_zero_nn_model, row, collor = 'purple', allpha = 0.7)\n",
        "##plot_row(denormalized_mean_nn_model, row, collor = 'orange', allpha = 0.7)\n",
        "#plt.ylabel('Murders')\n",
        "\n",
        "plt.show()"
      ],
      "metadata": {
        "colab": {
          "base_uri": "https://localhost:8080/"
        },
        "id": "zxoOILc1aB5o",
        "outputId": "e0b66e92-b32a-4bce-f934-f51c546c0153"
      },
      "execution_count": null,
      "outputs": [
        {
          "output_type": "display_data",
          "data": {
            "text/plain": [
              "<Figure size 640x480 with 1 Axes>"
            ],
            "image/png": "[encoded data removed]"
          },
          "metadata": {}
        }
      ]
    },
    {
      "cell_type": "code",
      "source": [
        "for i in range(0,500):\n",
        "  row = i\n",
        "  plot_row(denormalized_linear_model, row, collor = 'red', allpha = 0.7)\n",
        "  plot_row(denormalized_polynomial_model, row, collor = 'green', allpha = 0.7)\n",
        "  plot_row(denormalized_knn_model, row, collor = 'yellow', allpha = 0.7)\n",
        "  plot_row(denormalized_zero_model, row, collor = 'purple', allpha = 0.7)\n",
        "  plot_row(denormalized_mean_model, row, collor = 'orange', allpha = 0.7)\n",
        "  plot_row(denormalized_master_df, row, collor = 'blue', allpha = 1)\n",
        "#plt.ylabel('Murders')\n",
        "\n",
        "  plt.show()"
      ],
      "metadata": {
        "id": "7hL9Xl2cl-CE"
      },
      "execution_count": null,
      "outputs": []
    },
    {
      "cell_type": "code",
      "source": [
        "row = 230\n",
        "plot_row(denormalized_linear_model, row, collor = 'red', allpha = 0.7)\n",
        "plot_row(denormalized_polynomial_model, row, collor = 'green', allpha = 0.7)\n",
        "plot_row(denormalized_knn_model, row, collor = 'yellow', allpha = 0.7)\n",
        "plot_row(denormalized_zero_model, row, collor = 'purple', allpha = 0.7)\n",
        "plot_row(denormalized_mean_model, row, collor = 'orange', allpha = 0.7)\n",
        "plot_row(denormalized_master_df, row, collor = 'blue', allpha = 1)\n",
        "plt.ylabel('Democracy')\n",
        "plt.show()"
      ],
      "metadata": {
        "colab": {
          "base_uri": "https://localhost:8080/",
          "height": 472
        },
        "id": "JpeAPHcrmP8l",
        "outputId": "fa237dfa-5573-455d-851c-d4a9da5ec802"
      },
      "execution_count": null,
      "outputs": [
        {
          "output_type": "display_data",
          "data": {
            "text/plain": [
              "<Figure size 640x480 with 1 Axes>"
            ],
            "image/png": "[encoded data removed]"
          },
          "metadata": {}
        }
      ]
    }
  ]
}